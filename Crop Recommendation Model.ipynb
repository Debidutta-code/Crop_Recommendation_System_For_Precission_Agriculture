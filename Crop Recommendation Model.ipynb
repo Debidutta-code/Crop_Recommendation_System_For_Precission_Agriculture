{
 "cells": [
  {
   "cell_type": "code",
   "execution_count": 1,
   "metadata": {},
   "outputs": [],
   "source": [
    "# Importing libraries\n",
    "\n",
    "from __future__ import print_function\n",
    "import pandas as pd\n",
    "import numpy as np\n",
    "import matplotlib.pyplot as plt\n",
    "import seaborn as sns\n",
    "from sklearn.metrics import classification_report\n",
    "from sklearn import metrics\n",
    "from sklearn import tree\n",
    "import warnings\n",
    "warnings.filterwarnings('ignore')"
   ]
  },
  {
   "cell_type": "code",
   "execution_count": 2,
   "metadata": {},
   "outputs": [],
   "source": [
    "df = pd.read_csv('C:\\\\Users\\\\Debidutta Acharya\\\\(INTERNSHIP 5TH SEM)\\\\mam folder\\\\crop_recommendation.csv')"
   ]
  },
  {
   "cell_type": "code",
   "execution_count": 3,
   "metadata": {},
   "outputs": [
    {
     "data": {
      "text/html": [
       "<div>\n",
       "<style scoped>\n",
       "    .dataframe tbody tr th:only-of-type {\n",
       "        vertical-align: middle;\n",
       "    }\n",
       "\n",
       "    .dataframe tbody tr th {\n",
       "        vertical-align: top;\n",
       "    }\n",
       "\n",
       "    .dataframe thead th {\n",
       "        text-align: right;\n",
       "    }\n",
       "</style>\n",
       "<table border=\"1\" class=\"dataframe\">\n",
       "  <thead>\n",
       "    <tr style=\"text-align: right;\">\n",
       "      <th></th>\n",
       "      <th>N</th>\n",
       "      <th>P</th>\n",
       "      <th>K</th>\n",
       "      <th>temperature</th>\n",
       "      <th>humidity</th>\n",
       "      <th>ph</th>\n",
       "      <th>rainfall</th>\n",
       "      <th>label</th>\n",
       "    </tr>\n",
       "  </thead>\n",
       "  <tbody>\n",
       "    <tr>\n",
       "      <th>0</th>\n",
       "      <td>92</td>\n",
       "      <td>52</td>\n",
       "      <td>45</td>\n",
       "      <td>20.879744</td>\n",
       "      <td>82.002744</td>\n",
       "      <td>6.502985</td>\n",
       "      <td>202.935536</td>\n",
       "      <td>rice</td>\n",
       "    </tr>\n",
       "    <tr>\n",
       "      <th>1</th>\n",
       "      <td>63</td>\n",
       "      <td>47</td>\n",
       "      <td>41</td>\n",
       "      <td>21.770462</td>\n",
       "      <td>80.319644</td>\n",
       "      <td>7.038096</td>\n",
       "      <td>226.655537</td>\n",
       "      <td>rice</td>\n",
       "    </tr>\n",
       "    <tr>\n",
       "      <th>2</th>\n",
       "      <td>74</td>\n",
       "      <td>47</td>\n",
       "      <td>44</td>\n",
       "      <td>23.004459</td>\n",
       "      <td>82.320763</td>\n",
       "      <td>7.840207</td>\n",
       "      <td>263.964248</td>\n",
       "      <td>rice</td>\n",
       "    </tr>\n",
       "    <tr>\n",
       "      <th>3</th>\n",
       "      <td>88</td>\n",
       "      <td>45</td>\n",
       "      <td>45</td>\n",
       "      <td>26.491096</td>\n",
       "      <td>80.158363</td>\n",
       "      <td>6.980401</td>\n",
       "      <td>242.864034</td>\n",
       "      <td>rice</td>\n",
       "    </tr>\n",
       "    <tr>\n",
       "      <th>4</th>\n",
       "      <td>100</td>\n",
       "      <td>59</td>\n",
       "      <td>42</td>\n",
       "      <td>20.130175</td>\n",
       "      <td>81.604873</td>\n",
       "      <td>7.628473</td>\n",
       "      <td>262.717340</td>\n",
       "      <td>rice</td>\n",
       "    </tr>\n",
       "  </tbody>\n",
       "</table>\n",
       "</div>"
      ],
      "text/plain": [
       "     N   P   K  temperature   humidity        ph    rainfall label\n",
       "0   92  52  45    20.879744  82.002744  6.502985  202.935536  rice\n",
       "1   63  47  41    21.770462  80.319644  7.038096  226.655537  rice\n",
       "2   74  47  44    23.004459  82.320763  7.840207  263.964248  rice\n",
       "3   88  45  45    26.491096  80.158363  6.980401  242.864034  rice\n",
       "4  100  59  42    20.130175  81.604873  7.628473  262.717340  rice"
      ]
     },
     "execution_count": 3,
     "metadata": {},
     "output_type": "execute_result"
    }
   ],
   "source": [
    "df.head()"
   ]
  },
  {
   "cell_type": "code",
   "execution_count": 4,
   "metadata": {},
   "outputs": [
    {
     "data": {
      "text/html": [
       "<div>\n",
       "<style scoped>\n",
       "    .dataframe tbody tr th:only-of-type {\n",
       "        vertical-align: middle;\n",
       "    }\n",
       "\n",
       "    .dataframe tbody tr th {\n",
       "        vertical-align: top;\n",
       "    }\n",
       "\n",
       "    .dataframe thead th {\n",
       "        text-align: right;\n",
       "    }\n",
       "</style>\n",
       "<table border=\"1\" class=\"dataframe\">\n",
       "  <thead>\n",
       "    <tr style=\"text-align: right;\">\n",
       "      <th></th>\n",
       "      <th>N</th>\n",
       "      <th>P</th>\n",
       "      <th>K</th>\n",
       "      <th>temperature</th>\n",
       "      <th>humidity</th>\n",
       "      <th>ph</th>\n",
       "      <th>rainfall</th>\n",
       "      <th>label</th>\n",
       "    </tr>\n",
       "  </thead>\n",
       "  <tbody>\n",
       "    <tr>\n",
       "      <th>2195</th>\n",
       "      <td>117</td>\n",
       "      <td>37</td>\n",
       "      <td>27</td>\n",
       "      <td>26.774637</td>\n",
       "      <td>66.413269</td>\n",
       "      <td>6.780064</td>\n",
       "      <td>177.774507</td>\n",
       "      <td>coffee</td>\n",
       "    </tr>\n",
       "    <tr>\n",
       "      <th>2196</th>\n",
       "      <td>89</td>\n",
       "      <td>23</td>\n",
       "      <td>34</td>\n",
       "      <td>27.417112</td>\n",
       "      <td>56.636362</td>\n",
       "      <td>6.086922</td>\n",
       "      <td>127.924610</td>\n",
       "      <td>coffee</td>\n",
       "    </tr>\n",
       "    <tr>\n",
       "      <th>2197</th>\n",
       "      <td>104</td>\n",
       "      <td>33</td>\n",
       "      <td>28</td>\n",
       "      <td>24.131797</td>\n",
       "      <td>67.225123</td>\n",
       "      <td>6.362608</td>\n",
       "      <td>173.322839</td>\n",
       "      <td>coffee</td>\n",
       "    </tr>\n",
       "    <tr>\n",
       "      <th>2198</th>\n",
       "      <td>118</td>\n",
       "      <td>19</td>\n",
       "      <td>28</td>\n",
       "      <td>26.272418</td>\n",
       "      <td>52.127394</td>\n",
       "      <td>6.758793</td>\n",
       "      <td>127.175293</td>\n",
       "      <td>coffee</td>\n",
       "    </tr>\n",
       "    <tr>\n",
       "      <th>2199</th>\n",
       "      <td>98</td>\n",
       "      <td>16</td>\n",
       "      <td>31</td>\n",
       "      <td>23.603016</td>\n",
       "      <td>60.396475</td>\n",
       "      <td>6.779833</td>\n",
       "      <td>140.937041</td>\n",
       "      <td>coffee</td>\n",
       "    </tr>\n",
       "  </tbody>\n",
       "</table>\n",
       "</div>"
      ],
      "text/plain": [
       "        N   P   K  temperature   humidity        ph    rainfall   label\n",
       "2195  117  37  27    26.774637  66.413269  6.780064  177.774507  coffee\n",
       "2196   89  23  34    27.417112  56.636362  6.086922  127.924610  coffee\n",
       "2197  104  33  28    24.131797  67.225123  6.362608  173.322839  coffee\n",
       "2198  118  19  28    26.272418  52.127394  6.758793  127.175293  coffee\n",
       "2199   98  16  31    23.603016  60.396475  6.779833  140.937041  coffee"
      ]
     },
     "execution_count": 4,
     "metadata": {},
     "output_type": "execute_result"
    }
   ],
   "source": [
    "df.tail()"
   ]
  },
  {
   "cell_type": "code",
   "execution_count": 5,
   "metadata": {},
   "outputs": [
    {
     "data": {
      "text/plain": [
       "17600"
      ]
     },
     "execution_count": 5,
     "metadata": {},
     "output_type": "execute_result"
    }
   ],
   "source": [
    "df.size"
   ]
  },
  {
   "cell_type": "code",
   "execution_count": 6,
   "metadata": {},
   "outputs": [
    {
     "data": {
      "text/plain": [
       "(2200, 8)"
      ]
     },
     "execution_count": 6,
     "metadata": {},
     "output_type": "execute_result"
    }
   ],
   "source": [
    "df.shape"
   ]
  },
  {
   "cell_type": "code",
   "execution_count": 7,
   "metadata": {},
   "outputs": [
    {
     "data": {
      "text/plain": [
       "Index(['N', 'P', 'K', 'temperature', 'humidity', 'ph', 'rainfall', 'label'], dtype='object')"
      ]
     },
     "execution_count": 7,
     "metadata": {},
     "output_type": "execute_result"
    }
   ],
   "source": [
    "df.columns"
   ]
  },
  {
   "cell_type": "code",
   "execution_count": 8,
   "metadata": {},
   "outputs": [
    {
     "data": {
      "text/plain": [
       "array(['rice', 'maize', 'chickpea', 'kidneybeans', 'pigeonpeas',\n",
       "       'mothbeans', 'mungbean', 'blackgram', 'lentil', 'pomegranate',\n",
       "       'banana', 'mango', 'grapes', 'watermelon', 'muskmelon', 'apple',\n",
       "       'orange', 'papaya', 'coconut', 'cotton', 'jute', 'coffee'],\n",
       "      dtype=object)"
      ]
     },
     "execution_count": 8,
     "metadata": {},
     "output_type": "execute_result"
    }
   ],
   "source": [
    "df['label'].unique()"
   ]
  },
  {
   "cell_type": "code",
   "execution_count": 9,
   "metadata": {},
   "outputs": [
    {
     "data": {
      "text/plain": [
       "N                int64\n",
       "P                int64\n",
       "K                int64\n",
       "temperature    float64\n",
       "humidity       float64\n",
       "ph             float64\n",
       "rainfall       float64\n",
       "label           object\n",
       "dtype: object"
      ]
     },
     "execution_count": 9,
     "metadata": {},
     "output_type": "execute_result"
    }
   ],
   "source": [
    "df.dtypes"
   ]
  },
  {
   "cell_type": "code",
   "execution_count": 10,
   "metadata": {},
   "outputs": [
    {
     "data": {
      "text/plain": [
       "banana         100\n",
       "mungbean       100\n",
       "jute           100\n",
       "lentil         100\n",
       "mango          100\n",
       "pomegranate    100\n",
       "blackgram      100\n",
       "rice           100\n",
       "orange         100\n",
       "apple          100\n",
       "maize          100\n",
       "pigeonpeas     100\n",
       "coffee         100\n",
       "grapes         100\n",
       "papaya         100\n",
       "coconut        100\n",
       "kidneybeans    100\n",
       "watermelon     100\n",
       "mothbeans      100\n",
       "cotton         100\n",
       "chickpea       100\n",
       "muskmelon      100\n",
       "Name: label, dtype: int64"
      ]
     },
     "execution_count": 10,
     "metadata": {},
     "output_type": "execute_result"
    }
   ],
   "source": [
    "df['label'].value_counts()"
   ]
  },
  {
   "cell_type": "code",
   "execution_count": 11,
   "metadata": {},
   "outputs": [
    {
     "data": {
      "text/plain": [
       "<AxesSubplot:>"
      ]
     },
     "execution_count": 11,
     "metadata": {},
     "output_type": "execute_result"
    },
    {
     "data": {
      "image/png": "[encoded data removed]",
      "text/plain": [
       "<Figure size 432x288 with 2 Axes>"
      ]
     },
     "metadata": {
      "needs_background": "light"
     },
     "output_type": "display_data"
    }
   ],
   "source": [
    "sns.heatmap(df.corr(),annot=True)"
   ]
  },
  {
   "cell_type": "code",
   "execution_count": 12,
   "metadata": {},
   "outputs": [
    {
     "data": {
      "image/png": "[encoded data removed]",
      "text/plain": [
       "<Figure size 1200x1500 with 7 Axes>"
      ]
     },
     "metadata": {
      "needs_background": "light"
     },
     "output_type": "display_data"
    }
   ],
   "source": [
    "## over all distribution\n",
    "\n",
    "plt.rcParams['figure.figsize'] = (8, 10)\n",
    "plt.rcParams['figure.dpi'] = 150\n",
    "\n",
    "# ratio of Nitrogen content in soil\n",
    "plt.subplot(4, 2, 1)\n",
    "sns.distplot(df['N'], color='yellow')\n",
    "plt.title('Ratio of Nitrogen', fontsize = 12)\n",
    "plt.tight_layout()\n",
    "plt.grid()\n",
    "\n",
    "# ratio of Phosphorous content in soil\n",
    "plt.subplot(4, 2, 2)\n",
    "sns.distplot(df['P'], color='cyan')\n",
    "plt.title('Ratio of Phosphorous', fontsize = 12)\n",
    "plt.tight_layout()\n",
    "plt.grid()\n",
    "\n",
    "# ratio of Potassium content in soil\n",
    "plt.subplot(4, 2, 3)\n",
    "sns.distplot(df['K'], color = 'olivedrab')\n",
    "plt.title('Ratio of Potassium', fontsize = 12)\n",
    "plt.tight_layout()\n",
    "plt.grid()\n",
    "\n",
    "# temperature in degree Celsius\n",
    "plt.subplot(4, 2, 4)\n",
    "sns.distplot(df['temperature'], color = 'greenyellow')\n",
    "plt.title('Distripution of Temterature', fontsize = 12)\n",
    "plt.tight_layout()\n",
    "plt.grid()\n",
    "\n",
    "# humidity - relative humidity in %\n",
    "plt.subplot(4, 2, 5)\n",
    "sns.distplot(df['humidity'], color = 'orange')\n",
    "plt.title('Distripution of Humidity', fontsize = 12)\n",
    "plt.tight_layout()\n",
    "plt.grid()\n",
    "\n",
    "# ph - ph value of the soil\n",
    "plt.subplot(4, 2, 6)\n",
    "sns.distplot(df['ph'], color = 'crimson')\n",
    "plt.title('Distripution of Ph', fontsize = 12)\n",
    "plt.tight_layout()\n",
    "plt.grid()\n",
    "\n",
    "# rainfall - rainfall in mm\n",
    "plt.subplot(4, 2, 7)\n",
    "sns.distplot(df['rainfall'], color = 'pink')\n",
    "plt.title('Distripution of Rainfall', fontsize = 12)\n",
    "plt.tight_layout()\n",
    "plt.grid()\n"
   ]
  },
  {
   "cell_type": "code",
   "execution_count": 13,
   "metadata": {},
   "outputs": [
    {
     "name": "stdout",
     "output_type": "stream",
     "text": [
      "Crops which requires very High Ratio of Nitrogen Content in Soil ? \n",
      "\n",
      "Data: The answer is : ['cotton']\n"
     ]
    }
   ],
   "source": [
    "print(\"Crops which requires very High Ratio of Nitrogen Content in Soil ? \\n\\nData: The answer is : {}\" .format(df[df['N'] > 120]['label'].unique()))"
   ]
  },
  {
   "cell_type": "markdown",
   "metadata": {},
   "source": [
    "### Seperating features and target label"
   ]
  },
  {
   "cell_type": "code",
   "execution_count": 14,
   "metadata": {},
   "outputs": [],
   "source": [
    "features = df[['N', 'P','K','temperature', 'humidity', 'ph', 'rainfall']]\n",
    "target = df['label']\n",
    "#features = df[['temperature', 'humidity', 'ph', 'rainfall']]\n",
    "labels = df['label']"
   ]
  },
  {
   "cell_type": "code",
   "execution_count": 15,
   "metadata": {},
   "outputs": [],
   "source": [
    "# Initialzing empty lists to append all model's name and corresponding name\n",
    "acc = []\n",
    "model = []"
   ]
  },
  {
   "cell_type": "code",
   "execution_count": 16,
   "metadata": {},
   "outputs": [],
   "source": [
    "# Splitting into train and test data\n",
    "\n",
    "from sklearn.model_selection import train_test_split\n",
    "Xtrain, Xtest, Ytrain, Ytest = train_test_split(features,target,test_size = 0.2,random_state =2)"
   ]
  },
  {
   "cell_type": "markdown",
   "metadata": {},
   "source": [
    "# Decision Tree"
   ]
  },
  {
   "cell_type": "code",
   "execution_count": 17,
   "metadata": {},
   "outputs": [
    {
     "name": "stdout",
     "output_type": "stream",
     "text": [
      "DecisionTrees's Accuracy is:  94.0909090909091\n",
      "              precision    recall  f1-score   support\n",
      "\n",
      "       apple       1.00      1.00      1.00        13\n",
      "      banana       1.00      1.00      1.00        17\n",
      "   blackgram       0.59      1.00      0.74        16\n",
      "    chickpea       1.00      1.00      1.00        21\n",
      "     coconut       1.00      0.95      0.98        21\n",
      "      coffee       1.00      0.86      0.93        22\n",
      "      cotton       1.00      1.00      1.00        20\n",
      "      grapes       1.00      1.00      1.00        18\n",
      "        jute       0.78      1.00      0.88        28\n",
      " kidneybeans       1.00      0.79      0.88        14\n",
      "      lentil       0.92      1.00      0.96        23\n",
      "       maize       1.00      0.71      0.83        21\n",
      "       mango       1.00      1.00      1.00        26\n",
      "   mothbeans       1.00      0.68      0.81        19\n",
      "    mungbean       1.00      1.00      1.00        24\n",
      "   muskmelon       0.96      1.00      0.98        23\n",
      "      orange       1.00      1.00      1.00        29\n",
      "      papaya       1.00      0.89      0.94        19\n",
      "  pigeonpeas       0.90      1.00      0.95        18\n",
      " pomegranate       0.94      1.00      0.97        17\n",
      "        rice       0.92      0.69      0.79        16\n",
      "  watermelon       1.00      1.00      1.00        15\n",
      "\n",
      "    accuracy                           0.94       440\n",
      "   macro avg       0.95      0.94      0.94       440\n",
      "weighted avg       0.96      0.94      0.94       440\n",
      "\n"
     ]
    }
   ],
   "source": [
    "from sklearn.tree import DecisionTreeClassifier\n",
    "\n",
    "DecisionTree = DecisionTreeClassifier(criterion=\"entropy\",random_state=2,max_depth=5)\n",
    "\n",
    "DecisionTree.fit(Xtrain,Ytrain)\n",
    "\n",
    "predicted_values = DecisionTree.predict(Xtest)\n",
    "x = metrics.accuracy_score(Ytest, predicted_values)\n",
    "acc.append(x)\n",
    "model.append('Decision Tree')\n",
    "print(\"DecisionTrees's Accuracy is: \", x*100)\n",
    "\n",
    "print(classification_report(Ytest,predicted_values))"
   ]
  },
  {
   "cell_type": "code",
   "execution_count": 18,
   "metadata": {},
   "outputs": [],
   "source": [
    "from sklearn.model_selection import cross_val_score"
   ]
  },
  {
   "cell_type": "code",
   "execution_count": 19,
   "metadata": {},
   "outputs": [],
   "source": [
    "# Cross validation score (Decision Tree)\n",
    "score = cross_val_score(DecisionTree, features, target,cv=5)"
   ]
  },
  {
   "cell_type": "code",
   "execution_count": 20,
   "metadata": {},
   "outputs": [
    {
     "data": {
      "text/plain": [
       "array([0.93636364, 0.90681818, 0.91818182, 0.91818182, 0.94090909])"
      ]
     },
     "execution_count": 20,
     "metadata": {},
     "output_type": "execute_result"
    }
   ],
   "source": [
    "score"
   ]
  },
  {
   "cell_type": "markdown",
   "metadata": {},
   "source": [
    "### Saving trained Decision Tree model"
   ]
  },
  {
   "cell_type": "code",
   "execution_count": 21,
   "metadata": {},
   "outputs": [],
   "source": [
    "import pickle\n",
    "# Dump the trained Naive Bayes classifier with Pickle\n",
    "DT_pkl_filename = 'C:\\\\Users\\\\Debidutta Acharya\\\\(INTERNSHIP 5TH SEM)\\\\(FINAL PROJECT)\\\\SUPER FINAL\\\\DecisionTree.pkl'\n",
    "# Open the file to save as pkl file\n",
    "DT_Model_pkl = open(DT_pkl_filename, 'wb')\n",
    "pickle.dump(DecisionTree, DT_Model_pkl)\n",
    "# Close the pickle instances\n",
    "DT_Model_pkl.close()"
   ]
  },
  {
   "cell_type": "markdown",
   "metadata": {},
   "source": [
    "# Guassian Naive Bayes"
   ]
  },
  {
   "cell_type": "code",
   "execution_count": 22,
   "metadata": {},
   "outputs": [
    {
     "name": "stdout",
     "output_type": "stream",
     "text": [
      "Naive Bayes's Accuracy is:  0.990909090909091\n",
      "              precision    recall  f1-score   support\n",
      "\n",
      "       apple       1.00      1.00      1.00        13\n",
      "      banana       1.00      1.00      1.00        17\n",
      "   blackgram       1.00      1.00      1.00        16\n",
      "    chickpea       1.00      1.00      1.00        21\n",
      "     coconut       1.00      1.00      1.00        21\n",
      "      coffee       1.00      1.00      1.00        22\n",
      "      cotton       1.00      1.00      1.00        20\n",
      "      grapes       1.00      1.00      1.00        18\n",
      "        jute       0.88      1.00      0.93        28\n",
      " kidneybeans       1.00      1.00      1.00        14\n",
      "      lentil       1.00      1.00      1.00        23\n",
      "       maize       1.00      1.00      1.00        21\n",
      "       mango       1.00      1.00      1.00        26\n",
      "   mothbeans       1.00      1.00      1.00        19\n",
      "    mungbean       1.00      1.00      1.00        24\n",
      "   muskmelon       1.00      1.00      1.00        23\n",
      "      orange       1.00      1.00      1.00        29\n",
      "      papaya       1.00      1.00      1.00        19\n",
      "  pigeonpeas       1.00      1.00      1.00        18\n",
      " pomegranate       1.00      1.00      1.00        17\n",
      "        rice       1.00      0.75      0.86        16\n",
      "  watermelon       1.00      1.00      1.00        15\n",
      "\n",
      "    accuracy                           0.99       440\n",
      "   macro avg       0.99      0.99      0.99       440\n",
      "weighted avg       0.99      0.99      0.99       440\n",
      "\n"
     ]
    }
   ],
   "source": [
    "from sklearn.naive_bayes import GaussianNB\n",
    "\n",
    "NaiveBayes = GaussianNB()\n",
    "\n",
    "NaiveBayes.fit(Xtrain,Ytrain)\n",
    "\n",
    "predicted_values = NaiveBayes.predict(Xtest)\n",
    "x = metrics.accuracy_score(Ytest, predicted_values)\n",
    "acc.append(x)\n",
    "model.append('Naive Bayes')\n",
    "print(\"Naive Bayes's Accuracy is: \", x)\n",
    "\n",
    "print(classification_report(Ytest,predicted_values))"
   ]
  },
  {
   "cell_type": "code",
   "execution_count": 23,
   "metadata": {},
   "outputs": [
    {
     "data": {
      "text/plain": [
       "array([0.99772727, 0.99772727, 0.99318182, 0.99318182, 0.98863636])"
      ]
     },
     "execution_count": 23,
     "metadata": {},
     "output_type": "execute_result"
    }
   ],
   "source": [
    "# Cross validation score (NaiveBayes)\n",
    "score = cross_val_score(NaiveBayes,features,target,cv=5)\n",
    "score"
   ]
  },
  {
   "cell_type": "markdown",
   "metadata": {},
   "source": [
    "### Saving trained Guassian Naive Bayes model"
   ]
  },
  {
   "cell_type": "code",
   "execution_count": 24,
   "metadata": {},
   "outputs": [],
   "source": [
    "import pickle\n",
    "# Dump the trained Naive Bayes classifier with Pickle\n",
    "NB_pkl_filename = 'C:\\\\Users\\\\Debidutta Acharya\\\\(INTERNSHIP 5TH SEM)\\\\(FINAL PROJECT)\\\\SUPER FINAL\\\\NBClassifier.pkl'\n",
    "# Open the file to save as pkl file\n",
    "NB_Model_pkl = open(NB_pkl_filename, 'wb')\n",
    "pickle.dump(NaiveBayes, NB_Model_pkl)\n",
    "# Close the pickle instances\n",
    "NB_Model_pkl.close()"
   ]
  },
  {
   "cell_type": "markdown",
   "metadata": {},
   "source": [
    "# Support Vector Machine (SVM)"
   ]
  },
  {
   "cell_type": "code",
   "execution_count": 25,
   "metadata": {},
   "outputs": [
    {
     "name": "stdout",
     "output_type": "stream",
     "text": [
      "SVM's Accuracy is:  0.9727272727272728\n",
      "              precision    recall  f1-score   support\n",
      "\n",
      "       apple       1.00      1.00      1.00        13\n",
      "      banana       1.00      1.00      1.00        17\n",
      "   blackgram       0.94      1.00      0.97        16\n",
      "    chickpea       1.00      1.00      1.00        21\n",
      "     coconut       1.00      1.00      1.00        21\n",
      "      coffee       1.00      1.00      1.00        22\n",
      "      cotton       0.95      1.00      0.98        20\n",
      "      grapes       1.00      1.00      1.00        18\n",
      "        jute       0.82      0.82      0.82        28\n",
      " kidneybeans       1.00      1.00      1.00        14\n",
      "      lentil       1.00      1.00      1.00        23\n",
      "       maize       1.00      0.95      0.98        21\n",
      "       mango       1.00      1.00      1.00        26\n",
      "   mothbeans       1.00      0.95      0.97        19\n",
      "    mungbean       1.00      1.00      1.00        24\n",
      "   muskmelon       1.00      1.00      1.00        23\n",
      "      orange       1.00      1.00      1.00        29\n",
      "      papaya       0.95      1.00      0.97        19\n",
      "  pigeonpeas       1.00      1.00      1.00        18\n",
      " pomegranate       1.00      1.00      1.00        17\n",
      "        rice       0.73      0.69      0.71        16\n",
      "  watermelon       1.00      1.00      1.00        15\n",
      "\n",
      "    accuracy                           0.97       440\n",
      "   macro avg       0.97      0.97      0.97       440\n",
      "weighted avg       0.97      0.97      0.97       440\n",
      "\n"
     ]
    }
   ],
   "source": [
    "from sklearn.svm import SVC\n",
    "# data normalization with sklearn\n",
    "from sklearn.preprocessing import MinMaxScaler\n",
    "# fit scaler on training data\n",
    "norm = MinMaxScaler().fit(Xtrain)\n",
    "X_train_norm = norm.transform(Xtrain)\n",
    "# transform testing dataabs\n",
    "X_test_norm = norm.transform(Xtest)\n",
    "SVM = SVC(kernel='poly', degree=3, C=1)\n",
    "SVM.fit(X_train_norm,Ytrain)\n",
    "predicted_values = SVM.predict(X_test_norm)\n",
    "x = metrics.accuracy_score(Ytest, predicted_values)\n",
    "acc.append(x)\n",
    "model.append('SVM')\n",
    "print(\"SVM's Accuracy is: \", x)\n",
    "\n",
    "print(classification_report(Ytest,predicted_values))"
   ]
  },
  {
   "cell_type": "code",
   "execution_count": 26,
   "metadata": {},
   "outputs": [
    {
     "data": {
      "text/plain": [
       "array([0.98181818, 0.97727273, 0.99090909, 0.98181818, 0.98181818])"
      ]
     },
     "execution_count": 26,
     "metadata": {},
     "output_type": "execute_result"
    }
   ],
   "source": [
    "# Cross validation score (SVM)\n",
    "score = cross_val_score(SVM,features,target,cv=5)\n",
    "score"
   ]
  },
  {
   "cell_type": "code",
   "execution_count": 27,
   "metadata": {},
   "outputs": [],
   "source": [
    "#Saving trained SVM model"
   ]
  },
  {
   "cell_type": "code",
   "execution_count": 28,
   "metadata": {},
   "outputs": [],
   "source": [
    "import pickle\n",
    "# Dump the trained SVM classifier with Pickle\n",
    "SVM_pkl_filename = 'C:\\\\Users\\\\Debidutta Acharya\\\\(INTERNSHIP 5TH SEM)\\\\(FINAL PROJECT)\\\\SUPER FINAL/SVMClassifier.pkl'\n",
    "# Open the file to save as pkl file\n",
    "SVM_Model_pkl = open(SVM_pkl_filename, 'wb')\n",
    "pickle.dump(SVM, SVM_Model_pkl)\n",
    "# Close the pickle instances\n",
    "SVM_Model_pkl.close()"
   ]
  },
  {
   "cell_type": "markdown",
   "metadata": {},
   "source": [
    "# Logistic Regression"
   ]
  },
  {
   "cell_type": "code",
   "execution_count": 29,
   "metadata": {},
   "outputs": [
    {
     "name": "stdout",
     "output_type": "stream",
     "text": [
      "Logistic Regression's Accuracy is:  0.9568181818181818\n",
      "              precision    recall  f1-score   support\n",
      "\n",
      "       apple       1.00      1.00      1.00        13\n",
      "      banana       1.00      1.00      1.00        17\n",
      "   blackgram       0.94      1.00      0.97        16\n",
      "    chickpea       1.00      1.00      1.00        21\n",
      "     coconut       1.00      0.95      0.98        21\n",
      "      coffee       0.96      1.00      0.98        22\n",
      "      cotton       0.95      0.90      0.92        20\n",
      "      grapes       1.00      1.00      1.00        18\n",
      "        jute       0.85      0.79      0.81        28\n",
      " kidneybeans       0.93      1.00      0.97        14\n",
      "      lentil       1.00      1.00      1.00        23\n",
      "       maize       0.91      0.95      0.93        21\n",
      "       mango       1.00      0.92      0.96        26\n",
      "   mothbeans       1.00      0.95      0.97        19\n",
      "    mungbean       1.00      1.00      1.00        24\n",
      "   muskmelon       1.00      1.00      1.00        23\n",
      "      orange       1.00      1.00      1.00        29\n",
      "      papaya       0.79      1.00      0.88        19\n",
      "  pigeonpeas       1.00      0.94      0.97        18\n",
      " pomegranate       0.94      1.00      0.97        17\n",
      "        rice       0.79      0.69      0.73        16\n",
      "  watermelon       1.00      1.00      1.00        15\n",
      "\n",
      "    accuracy                           0.96       440\n",
      "   macro avg       0.96      0.96      0.96       440\n",
      "weighted avg       0.96      0.96      0.96       440\n",
      "\n"
     ]
    }
   ],
   "source": [
    "from sklearn.linear_model import LogisticRegression\n",
    "\n",
    "LogReg = LogisticRegression(random_state=2)\n",
    "\n",
    "LogReg.fit(Xtrain,Ytrain)\n",
    "\n",
    "predicted_values = LogReg.predict(Xtest)\n",
    "\n",
    "x = metrics.accuracy_score(Ytest, predicted_values)\n",
    "acc.append(x)\n",
    "model.append('Logistic Regression')\n",
    "print(\"Logistic Regression's Accuracy is: \", x)\n",
    "\n",
    "print(classification_report(Ytest,predicted_values))"
   ]
  },
  {
   "cell_type": "code",
   "execution_count": 30,
   "metadata": {},
   "outputs": [
    {
     "data": {
      "text/plain": [
       "array([0.95681818, 0.95909091, 0.95227273, 0.95681818, 0.96363636])"
      ]
     },
     "execution_count": 30,
     "metadata": {},
     "output_type": "execute_result"
    }
   ],
   "source": [
    "# Cross validation score (Logistic Regression)\n",
    "score = cross_val_score(LogReg,features,target,cv=5)\n",
    "score"
   ]
  },
  {
   "cell_type": "markdown",
   "metadata": {},
   "source": [
    "### Saving trained Logistic Regression model"
   ]
  },
  {
   "cell_type": "code",
   "execution_count": 31,
   "metadata": {},
   "outputs": [],
   "source": [
    "import pickle\n",
    "# Dump the trained Naive Bayes classifier with Pickle\n",
    "LR_pkl_filename = 'C:\\\\Users\\\\Debidutta Acharya\\\\(INTERNSHIP 5TH SEM)\\\\(FINAL PROJECT)\\\\SUPER FINAL\\\\LogisticRegression.pkl'\n",
    "# Open the file to save as pkl file\n",
    "LR_Model_pkl = open(DT_pkl_filename, 'wb')\n",
    "pickle.dump(LogReg, LR_Model_pkl)\n",
    "# Close the pickle instances\n",
    "LR_Model_pkl.close()"
   ]
  },
  {
   "cell_type": "markdown",
   "metadata": {},
   "source": [
    "# Random Forest"
   ]
  },
  {
   "cell_type": "code",
   "execution_count": 32,
   "metadata": {},
   "outputs": [
    {
     "name": "stdout",
     "output_type": "stream",
     "text": [
      "RF's Accuracy is:  0.9886363636363636\n",
      "              precision    recall  f1-score   support\n",
      "\n",
      "       apple       1.00      1.00      1.00        13\n",
      "      banana       1.00      1.00      1.00        17\n",
      "   blackgram       0.89      1.00      0.94        16\n",
      "    chickpea       1.00      1.00      1.00        21\n",
      "     coconut       1.00      1.00      1.00        21\n",
      "      coffee       1.00      1.00      1.00        22\n",
      "      cotton       1.00      1.00      1.00        20\n",
      "      grapes       1.00      1.00      1.00        18\n",
      "        jute       0.90      1.00      0.95        28\n",
      " kidneybeans       1.00      1.00      1.00        14\n",
      "      lentil       1.00      1.00      1.00        23\n",
      "       maize       1.00      1.00      1.00        21\n",
      "       mango       1.00      1.00      1.00        26\n",
      "   mothbeans       1.00      0.89      0.94        19\n",
      "    mungbean       1.00      1.00      1.00        24\n",
      "   muskmelon       1.00      1.00      1.00        23\n",
      "      orange       1.00      1.00      1.00        29\n",
      "      papaya       1.00      1.00      1.00        19\n",
      "  pigeonpeas       1.00      1.00      1.00        18\n",
      " pomegranate       1.00      1.00      1.00        17\n",
      "        rice       1.00      0.81      0.90        16\n",
      "  watermelon       1.00      1.00      1.00        15\n",
      "\n",
      "    accuracy                           0.99       440\n",
      "   macro avg       0.99      0.99      0.99       440\n",
      "weighted avg       0.99      0.99      0.99       440\n",
      "\n"
     ]
    }
   ],
   "source": [
    "from sklearn.ensemble import RandomForestClassifier\n",
    "\n",
    "RF = RandomForestClassifier(n_estimators=20, random_state=0)\n",
    "RF.fit(Xtrain,Ytrain)\n",
    "\n",
    "predicted_values = RF.predict(Xtest)\n",
    "\n",
    "x = metrics.accuracy_score(Ytest, predicted_values)\n",
    "acc.append(x)\n",
    "model.append('RF')\n",
    "print(\"RF's Accuracy is: \", x)\n",
    "\n",
    "print(classification_report(Ytest,predicted_values))"
   ]
  },
  {
   "cell_type": "code",
   "execution_count": 33,
   "metadata": {},
   "outputs": [
    {
     "data": {
      "text/plain": [
       "array([0.99772727, 0.99318182, 0.99318182, 0.98863636, 0.98863636])"
      ]
     },
     "execution_count": 33,
     "metadata": {},
     "output_type": "execute_result"
    }
   ],
   "source": [
    "# Cross validation score (Random Forest)\n",
    "score = cross_val_score(RF,features,target,cv=5)\n",
    "score"
   ]
  },
  {
   "cell_type": "markdown",
   "metadata": {},
   "source": [
    "### Saving trained Random Forest model"
   ]
  },
  {
   "cell_type": "code",
   "execution_count": 34,
   "metadata": {},
   "outputs": [],
   "source": [
    "import pickle\n",
    "# Dump the trained Naive Bayes classifier with Pickle\n",
    "RF_pkl_filename = 'C:\\\\Users\\\\Debidutta Acharya\\\\(INTERNSHIP 5TH SEM)\\\\(FINAL PROJECT)\\\\SUPER FINAL\\\\RandomForest.pkl'\n",
    "# Open the file to save as pkl file\n",
    "RF_Model_pkl = open(RF_pkl_filename, 'wb')\n",
    "pickle.dump(RF, RF_Model_pkl)\n",
    "# Close the pickle instances\n",
    "RF_Model_pkl.close()"
   ]
  },
  {
   "cell_type": "markdown",
   "metadata": {},
   "source": [
    "## Accuracy Comparison"
   ]
  },
  {
   "cell_type": "code",
   "execution_count": 35,
   "metadata": {},
   "outputs": [
    {
     "data": {
      "text/plain": [
       "<AxesSubplot:title={'center':'Accuracy Comparison'}, xlabel='Accuracy', ylabel='Algorithm'>"
      ]
     },
     "execution_count": 35,
     "metadata": {},
     "output_type": "execute_result"
    },
    {
     "data": {
      "image/png": "[encoded data removed]",
      "text/plain": [
       "<Figure size 1000x500 with 1 Axes>"
      ]
     },
     "metadata": {
      "needs_background": "light"
     },
     "output_type": "display_data"
    }
   ],
   "source": [
    "plt.figure(figsize=[10,5],dpi = 100)\n",
    "plt.title('Accuracy Comparison')\n",
    "plt.xlabel('Accuracy')\n",
    "plt.ylabel('Algorithm')\n",
    "sns.barplot(x = acc,y = model,palette='dark')"
   ]
  },
  {
   "cell_type": "code",
   "execution_count": 36,
   "metadata": {},
   "outputs": [
    {
     "name": "stdout",
     "output_type": "stream",
     "text": [
      "Decision Tree --> 0.9409090909090909\n",
      "Naive Bayes --> 0.990909090909091\n",
      "SVM --> 0.9727272727272728\n",
      "Logistic Regression --> 0.9568181818181818\n",
      "RF --> 0.9886363636363636\n"
     ]
    }
   ],
   "source": [
    "accuracy_models = dict(zip(model, acc))\n",
    "for k, v in accuracy_models.items():\n",
    "    print (k, '-->', v)"
   ]
  },
  {
   "cell_type": "markdown",
   "metadata": {},
   "source": [
    "## Making a prediction"
   ]
  },
  {
   "cell_type": "code",
   "execution_count": 37,
   "metadata": {},
   "outputs": [
    {
     "name": "stdout",
     "output_type": "stream",
     "text": [
      "['coffee']\n"
     ]
    }
   ],
   "source": [
    "data = np.array([[104,18, 30, 23.603016, 60.3, 6.7, 140.91]])\n",
    "prediction = RF.predict(data)\n",
    "print(prediction)"
   ]
  },
  {
   "cell_type": "code",
   "execution_count": 38,
   "metadata": {},
   "outputs": [
    {
     "name": "stdout",
     "output_type": "stream",
     "text": [
      "['watermelon']\n"
     ]
    }
   ],
   "source": [
    "data = np.array([[85, 45, 60, 28, 70.3, 7.0, 45.9]])\n",
    "prediction = RF.predict(data)\n",
    "print(prediction)"
   ]
  },
  {
   "cell_type": "markdown",
   "metadata": {},
   "source": [
    "## Crop Recommendation"
   ]
  },
  {
   "cell_type": "code",
   "execution_count": 39,
   "metadata": {},
   "outputs": [],
   "source": [
    "import pyttsx3                                                          \n",
    "import pandas as pd                                                      \n",
    "from sklearn import preprocessing                                        \n",
    "import numpy as np                                                        \n",
    "import PySimpleGUI as sg     "
   ]
  },
  {
   "cell_type": "code",
   "execution_count": 40,
   "metadata": {},
   "outputs": [],
   "source": [
    "df = pd.read_csv('C:\\\\Users\\\\Debidutta Acharya\\\\(INTERNSHIP 5TH SEM)\\\\mam folder\\\\crop_recommendation.csv')"
   ]
  },
  {
   "cell_type": "code",
   "execution_count": 41,
   "metadata": {},
   "outputs": [
    {
     "name": "stdout",
     "output_type": "stream",
     "text": [
      "        N   P   K  temperature   humidity        ph    rainfall   label\n",
      "0      92  52  45    20.879744  82.002744  6.502985  202.935536    rice\n",
      "1      63  47  41    21.770462  80.319644  7.038096  226.655537    rice\n",
      "2      74  47  44    23.004459  82.320763  7.840207  263.964248    rice\n",
      "3      88  45  45    26.491096  80.158363  6.980401  242.864034    rice\n",
      "4     100  59  42    20.130175  81.604873  7.628473  262.717340    rice\n",
      "...   ...  ..  ..          ...        ...       ...         ...     ...\n",
      "2195  117  37  27    26.774637  66.413269  6.780064  177.774507  coffee\n",
      "2196   89  23  34    27.417112  56.636362  6.086922  127.924610  coffee\n",
      "2197  104  33  28    24.131797  67.225123  6.362608  173.322839  coffee\n",
      "2198  118  19  28    26.272418  52.127394  6.758793  127.175293  coffee\n",
      "2199   98  16  31    23.603016  60.396475  6.779833  140.937041  coffee\n",
      "\n",
      "[2200 rows x 8 columns]\n",
      "(2200, 8)\n"
     ]
    }
   ],
   "source": [
    "csv = pd.read_csv('C:\\\\Users\\\\Debidutta Acharya\\\\(INTERNSHIP 5TH SEM)\\\\mam folder\\\\crop_recommendation.csv', header = 0)                            # Importing our excel data from a specific file.\n",
    "print(csv)                                                             \n",
    "print(csv.shape) "
   ]
  },
  {
   "cell_type": "code",
   "execution_count": 42,
   "metadata": {},
   "outputs": [],
   "source": [
    "engine = pyttsx3.init('sapi5')                                          \n",
    "voices = engine.getProperty('voices')\n",
    "rate = engine.getProperty('rate')\n",
    "engine.setProperty('rate', rate-20)\n",
    "engine.setProperty('voice',voices[0].id)"
   ]
  },
  {
   "cell_type": "code",
   "execution_count": 43,
   "metadata": {},
   "outputs": [],
   "source": [
    "def speak(audio):                                                         \n",
    "    engine.say(audio) \n",
    "    engine.runAndWait()\n",
    "\n",
    "\n",
    "le = preprocessing.LabelEncoder()                                         \n",
    "crop = le.fit_transform(list(csv[\"label\"])) \n",
    "\n",
    "\n",
    "NITROGEN = list(csv[\"N\"])                                        \n",
    "PHOSPHORUS = list(csv[\"P\"])                                     \n",
    "POTASSIUM = list(csv[\"K\"])                                      \n",
    "TEMPERATURE = list(csv[\"temperature\"])                                 \n",
    "HUMIDITY = list(csv[\"humidity\"])                                        \n",
    "PH = list(csv[\"ph\"])                                                   \n",
    "RAINFALL = list(csv[\"rainfall\"])                                        "
   ]
  },
  {
   "cell_type": "code",
   "execution_count": 44,
   "metadata": {},
   "outputs": [],
   "source": [
    "features = list(zip(NITROGEN, PHOSPHORUS, POTASSIUM, TEMPERATURE, HUMIDITY, PH, RAINFALL)) "
   ]
  },
  {
   "cell_type": "code",
   "execution_count": 45,
   "metadata": {},
   "outputs": [],
   "source": [
    "features = np.array([NITROGEN, PHOSPHORUS, POTASSIUM, TEMPERATURE, HUMIDITY, PH, RAINFALL])"
   ]
  },
  {
   "cell_type": "code",
   "execution_count": 46,
   "metadata": {},
   "outputs": [],
   "source": [
    "features = features.transpose()"
   ]
  },
  {
   "cell_type": "code",
   "execution_count": 47,
   "metadata": {},
   "outputs": [
    {
     "name": "stdout",
     "output_type": "stream",
     "text": [
      "(2200, 7)\n"
     ]
    }
   ],
   "source": [
    "print(features.shape) "
   ]
  },
  {
   "cell_type": "code",
   "execution_count": 48,
   "metadata": {},
   "outputs": [
    {
     "name": "stdout",
     "output_type": "stream",
     "text": [
      "(2200,)\n"
     ]
    }
   ],
   "source": [
    "print(crop.shape) "
   ]
  },
  {
   "cell_type": "code",
   "execution_count": 49,
   "metadata": {},
   "outputs": [],
   "source": [
    "from sklearn.neighbors import KNeighborsClassifier"
   ]
  },
  {
   "cell_type": "code",
   "execution_count": 50,
   "metadata": {},
   "outputs": [],
   "source": [
    "model = KNeighborsClassifier(n_neighbors=3)  "
   ]
  },
  {
   "cell_type": "code",
   "execution_count": 51,
   "metadata": {
    "scrolled": true
   },
   "outputs": [
    {
     "data": {
      "text/plain": [
       "KNeighborsClassifier(n_neighbors=3)"
      ]
     },
     "execution_count": 51,
     "metadata": {},
     "output_type": "execute_result"
    }
   ],
   "source": [
    "model.fit(features, crop)"
   ]
  },
  {
   "cell_type": "code",
   "execution_count": 52,
   "metadata": {},
   "outputs": [
    {
     "data": {
      "text/plain": [
       "236"
      ]
     },
     "execution_count": 52,
     "metadata": {},
     "output_type": "execute_result"
    }
   ],
   "source": [
    "temp = df[df.label == 'rice']\n",
    "mean_rainfall_rice = temp[\"rainfall\"].mean()\n",
    "mean_rainfall_rice = int(mean_rainfall_rice)\n",
    "mean_rainfall_rice"
   ]
  },
  {
   "cell_type": "code",
   "execution_count": 53,
   "metadata": {},
   "outputs": [
    {
     "data": {
      "text/plain": [
       "84"
      ]
     },
     "execution_count": 53,
     "metadata": {},
     "output_type": "execute_result"
    }
   ],
   "source": [
    "temp = df[df.label == 'maize']\n",
    "mean_rainfall_maize = temp[\"rainfall\"].mean()\n",
    "mean_rainfall_maize = int(mean_rainfall_maize)\n",
    "mean_rainfall_maize"
   ]
  },
  {
   "cell_type": "code",
   "execution_count": 54,
   "metadata": {},
   "outputs": [
    {
     "data": {
      "text/plain": [
       "80"
      ]
     },
     "execution_count": 54,
     "metadata": {},
     "output_type": "execute_result"
    }
   ],
   "source": [
    "temp = df[df.label == 'chickpea']\n",
    "mean_rainfall_chickpea = temp[\"rainfall\"].mean()\n",
    "mean_rainfall_chickpea = int(mean_rainfall_chickpea)\n",
    "mean_rainfall_chickpea"
   ]
  },
  {
   "cell_type": "code",
   "execution_count": 55,
   "metadata": {},
   "outputs": [
    {
     "data": {
      "text/plain": [
       "105"
      ]
     },
     "execution_count": 55,
     "metadata": {},
     "output_type": "execute_result"
    }
   ],
   "source": [
    "temp = df[df.label == 'kidneybeans']\n",
    "mean_rainfall_kidneybeans = temp[\"rainfall\"].mean()\n",
    "mean_rainfall_kidneybeans = int(mean_rainfall_kidneybeans)\n",
    "mean_rainfall_kidneybeans"
   ]
  },
  {
   "cell_type": "code",
   "execution_count": 56,
   "metadata": {},
   "outputs": [
    {
     "data": {
      "text/plain": [
       "149"
      ]
     },
     "execution_count": 56,
     "metadata": {},
     "output_type": "execute_result"
    }
   ],
   "source": [
    "temp = df[df.label == 'pigeonpeas']                 \n",
    "mean_rainfall_pigeonpeas = temp [\"rainfall\"].mean()\n",
    "mean_rainfall_pigeonpeas = int(mean_rainfall_pigeonpeas)\n",
    "mean_rainfall_pigeonpeas"
   ]
  },
  {
   "cell_type": "code",
   "execution_count": 57,
   "metadata": {},
   "outputs": [
    {
     "data": {
      "text/plain": [
       "51"
      ]
     },
     "execution_count": 57,
     "metadata": {},
     "output_type": "execute_result"
    }
   ],
   "source": [
    "temp = df[df.label == 'mothbeans']\n",
    "mean_rainfall_mothbeans = temp[\"rainfall\"].mean()\n",
    "mean_rainfall_mothbeans = int(mean_rainfall_mothbeans)\n",
    "mean_rainfall_mothbeans"
   ]
  },
  {
   "cell_type": "code",
   "execution_count": 58,
   "metadata": {},
   "outputs": [
    {
     "data": {
      "text/plain": [
       "48"
      ]
     },
     "execution_count": 58,
     "metadata": {},
     "output_type": "execute_result"
    }
   ],
   "source": [
    "temp = df[df.label == 'mungbean']\n",
    "mean_rainfall_mungbean = temp[\"rainfall\"].mean()\n",
    "mean_rainfall_mungbean = int(mean_rainfall_mungbean)\n",
    "mean_rainfall_mungbean"
   ]
  },
  {
   "cell_type": "code",
   "execution_count": 59,
   "metadata": {},
   "outputs": [
    {
     "data": {
      "text/plain": [
       "67"
      ]
     },
     "execution_count": 59,
     "metadata": {},
     "output_type": "execute_result"
    }
   ],
   "source": [
    "temp = df[df.label == 'blackgram']\n",
    "mean_rainfall_blackgram = temp[\"rainfall\"].mean()\n",
    "mean_rainfall_blackgram = int(mean_rainfall_blackgram)\n",
    "mean_rainfall_blackgram"
   ]
  },
  {
   "cell_type": "code",
   "execution_count": 60,
   "metadata": {},
   "outputs": [
    {
     "data": {
      "text/plain": [
       "45"
      ]
     },
     "execution_count": 60,
     "metadata": {},
     "output_type": "execute_result"
    }
   ],
   "source": [
    "temp = df[df.label == 'lentil']\n",
    "mean_rainfall_lentil = temp[\"rainfall\"].mean()\n",
    "mean_rainfall_lentil = int(mean_rainfall_lentil)\n",
    "mean_rainfall_lentil"
   ]
  },
  {
   "cell_type": "code",
   "execution_count": 61,
   "metadata": {},
   "outputs": [
    {
     "data": {
      "text/plain": [
       "107"
      ]
     },
     "execution_count": 61,
     "metadata": {},
     "output_type": "execute_result"
    }
   ],
   "source": [
    "temp = df[df.label == 'pomegranate']\n",
    "mean_rainfall_pomegranate = temp[\"rainfall\"].mean()\n",
    "mean_rainfall_pomegranate = int(mean_rainfall_pomegranate)\n",
    "mean_rainfall_pomegranate"
   ]
  },
  {
   "cell_type": "code",
   "execution_count": 62,
   "metadata": {},
   "outputs": [
    {
     "data": {
      "text/plain": [
       "104"
      ]
     },
     "execution_count": 62,
     "metadata": {},
     "output_type": "execute_result"
    }
   ],
   "source": [
    "temp = df[df.label == 'banana']\n",
    "mean_rainfall_banana = temp[\"rainfall\"].mean()\n",
    "mean_rainfall_banana = int(mean_rainfall_banana)\n",
    "mean_rainfall_banana"
   ]
  },
  {
   "cell_type": "code",
   "execution_count": 63,
   "metadata": {},
   "outputs": [
    {
     "data": {
      "text/plain": [
       "94"
      ]
     },
     "execution_count": 63,
     "metadata": {},
     "output_type": "execute_result"
    }
   ],
   "source": [
    "temp = df[df.label == 'mango']\n",
    "mean_rainfall_mango = temp[\"rainfall\"].mean()\n",
    "mean_rainfall_mango = int(mean_rainfall_mango)\n",
    "mean_rainfall_mango"
   ]
  },
  {
   "cell_type": "code",
   "execution_count": 64,
   "metadata": {},
   "outputs": [
    {
     "data": {
      "text/plain": [
       "69"
      ]
     },
     "execution_count": 64,
     "metadata": {},
     "output_type": "execute_result"
    }
   ],
   "source": [
    "temp = df[df.label == 'grapes']\n",
    "mean_rainfall_grapes = temp[\"rainfall\"].mean()\n",
    "mean_rainfall_grapes = int(mean_rainfall_grapes)\n",
    "mean_rainfall_grapes"
   ]
  },
  {
   "cell_type": "code",
   "execution_count": 65,
   "metadata": {},
   "outputs": [
    {
     "data": {
      "text/plain": [
       "50"
      ]
     },
     "execution_count": 65,
     "metadata": {},
     "output_type": "execute_result"
    }
   ],
   "source": [
    "temp = df[df.label == 'watermelon']\n",
    "mean_rainfall_watermelon = temp[\"rainfall\"].mean()\n",
    "mean_rainfall_watermelon = int(mean_rainfall_watermelon)\n",
    "mean_rainfall_watermelon"
   ]
  },
  {
   "cell_type": "code",
   "execution_count": 66,
   "metadata": {},
   "outputs": [
    {
     "data": {
      "text/plain": [
       "24"
      ]
     },
     "execution_count": 66,
     "metadata": {},
     "output_type": "execute_result"
    }
   ],
   "source": [
    "temp = df[df.label == 'muskmelon']\n",
    "mean_rainfall_muskmelon = temp[\"rainfall\"].mean()\n",
    "mean_rainfall_muskmelon = int(mean_rainfall_muskmelon)\n",
    "mean_rainfall_muskmelon"
   ]
  },
  {
   "cell_type": "code",
   "execution_count": 67,
   "metadata": {},
   "outputs": [
    {
     "data": {
      "text/plain": [
       "112"
      ]
     },
     "execution_count": 67,
     "metadata": {},
     "output_type": "execute_result"
    }
   ],
   "source": [
    "temp = df[df.label == 'apple']\n",
    "mean_rainfall_apple = temp[\"rainfall\"].mean()\n",
    "mean_rainfall_apple = int(mean_rainfall_apple)\n",
    "mean_rainfall_apple"
   ]
  },
  {
   "cell_type": "code",
   "execution_count": 68,
   "metadata": {},
   "outputs": [
    {
     "data": {
      "text/plain": [
       "110"
      ]
     },
     "execution_count": 68,
     "metadata": {},
     "output_type": "execute_result"
    }
   ],
   "source": [
    "temp = df[df.label == 'orange']\n",
    "mean_rainfall_orange = temp[\"rainfall\"].mean()\n",
    "mean_rainfall_orange = int(mean_rainfall_orange)\n",
    "mean_rainfall_orange"
   ]
  },
  {
   "cell_type": "code",
   "execution_count": 69,
   "metadata": {},
   "outputs": [
    {
     "data": {
      "text/plain": [
       "142"
      ]
     },
     "execution_count": 69,
     "metadata": {},
     "output_type": "execute_result"
    }
   ],
   "source": [
    "temp = df[df.label == 'papaya']\n",
    "mean_rainfall_papaya = temp[\"rainfall\"].mean()\n",
    "mean_rainfall_papaya = int(mean_rainfall_papaya)\n",
    "mean_rainfall_papaya"
   ]
  },
  {
   "cell_type": "code",
   "execution_count": 70,
   "metadata": {},
   "outputs": [
    {
     "data": {
      "text/plain": [
       "175"
      ]
     },
     "execution_count": 70,
     "metadata": {},
     "output_type": "execute_result"
    }
   ],
   "source": [
    "temp = df[df.label == 'coconut']\n",
    "mean_rainfall_coconut = temp[\"rainfall\"].mean()\n",
    "mean_rainfall_coconut = int(mean_rainfall_coconut)\n",
    "mean_rainfall_coconut"
   ]
  },
  {
   "cell_type": "code",
   "execution_count": 71,
   "metadata": {},
   "outputs": [
    {
     "data": {
      "text/plain": [
       "80"
      ]
     },
     "execution_count": 71,
     "metadata": {},
     "output_type": "execute_result"
    }
   ],
   "source": [
    "temp = df[df.label == 'cotton']\n",
    "mean_rainfall_cotton = temp[\"rainfall\"].mean()\n",
    "mean_rainfall_cotton = int(mean_rainfall_cotton)\n",
    "mean_rainfall_cotton"
   ]
  },
  {
   "cell_type": "code",
   "execution_count": 72,
   "metadata": {},
   "outputs": [
    {
     "data": {
      "text/plain": [
       "174"
      ]
     },
     "execution_count": 72,
     "metadata": {},
     "output_type": "execute_result"
    }
   ],
   "source": [
    "temp = df[df.label == 'jute']\n",
    "mean_rainfall_jute = temp[\"rainfall\"].mean()\n",
    "mean_rainfall_jute = int(mean_rainfall_jute)\n",
    "mean_rainfall_jute"
   ]
  },
  {
   "cell_type": "code",
   "execution_count": 73,
   "metadata": {},
   "outputs": [
    {
     "data": {
      "text/plain": [
       "158"
      ]
     },
     "execution_count": 73,
     "metadata": {},
     "output_type": "execute_result"
    }
   ],
   "source": [
    "temp = df[df.label == 'coffee']\n",
    "mean_rainfall_coffee = temp[\"rainfall\"].mean()\n",
    "mean_rainfall_coffee = int(mean_rainfall_coffee)\n",
    "mean_rainfall_coffee"
   ]
  },
  {
   "cell_type": "code",
   "execution_count": 74,
   "metadata": {},
   "outputs": [],
   "source": [
    "rainfall_arr = np.array([mean_rainfall_rice, mean_rainfall_maize, mean_rainfall_chickpea, mean_rainfall_kidneybeans, mean_rainfall_pigeonpeas, mean_rainfall_mothbeans, mean_rainfall_mungbean, mean_rainfall_blackgram, mean_rainfall_lentil, mean_rainfall_pomegranate, mean_rainfall_banana, mean_rainfall_mango, mean_rainfall_grapes, mean_rainfall_watermelon, mean_rainfall_muskmelon, mean_rainfall_orange, mean_rainfall_papaya, mean_rainfall_coconut, mean_rainfall_cotton, mean_rainfall_jute, mean_rainfall_coffee])"
   ]
  },
  {
   "cell_type": "code",
   "execution_count": 75,
   "metadata": {},
   "outputs": [
    {
     "data": {
      "text/plain": [
       "array([236,  84,  80, 105, 149,  51,  48,  67,  45, 107, 104,  94,  69,\n",
       "        50,  24, 110, 142, 175,  80, 174, 158])"
      ]
     },
     "execution_count": 75,
     "metadata": {},
     "output_type": "execute_result"
    }
   ],
   "source": [
    "rainfall_arr"
   ]
  },
  {
   "cell_type": "code",
   "execution_count": 76,
   "metadata": {},
   "outputs": [
    {
     "name": "stdout",
     "output_type": "stream",
     "text": [
      "236\n",
      "84\n",
      "80\n",
      "105\n",
      "149\n",
      "51\n",
      "48\n",
      "67\n",
      "45\n",
      "107\n",
      "104\n",
      "94\n",
      "69\n",
      "50\n",
      "24\n",
      "110\n",
      "142\n",
      "175\n",
      "80\n",
      "174\n",
      "158\n"
     ]
    }
   ],
   "source": [
    "for i in rainfall_arr:\n",
    "    print(i)"
   ]
  },
  {
   "cell_type": "code",
   "execution_count": 77,
   "metadata": {},
   "outputs": [],
   "source": [
    "crop_arr = np.array([\"rice\", \"maize\", \"chickpea\", \"kidneybeans\", \"pigeonpeas\", \"mothbeans\", \"mungbean\", \"blackgram\", \"lentil\", \"pomegranate\", \"banana\", \"mango\", \"grapes\", \"watermelon\", \"muskmelon\", \"orange\", \"papaya\", \"coconut\", \"cotton\", \"jute\", \"coffee\"])"
   ]
  },
  {
   "cell_type": "code",
   "execution_count": null,
   "metadata": {},
   "outputs": [],
   "source": []
  },
  {
   "cell_type": "code",
   "execution_count": 78,
   "metadata": {},
   "outputs": [],
   "source": [
    "column_to_be_centered = [[sg.Button('Recommend'), sg.Button('Exit')]]\n",
    "\n",
    "layout = [[sg.Text(\"\\u0332\".join('   Crop Recommendation System For Precision Agriculture'), font=(\"Times\", 30), text_color = 'yellow', background_color = 'forestgreen')],\n",
    "          [sg.Text('', background_color = 'forestgreen')], \n",
    "          [sg.Text('Please enter the following details :-', font=(\"Helvetica\", 20), background_color = 'forestgreen')],                                                                                          \n",
    "          [sg.Text('Enter ratio of Nitrogen in the soil                                  :', font=(\"Helvetica\", 20), background_color = 'forestgreen'), sg.Input(font=(\"Helvetica\",20), size = (15,1) )],\n",
    "          [sg.Text('Enter ratio of Phosphorous in the soil                           :', font=(\"Helvetica\", 20), background_color = 'forestgreen'), sg.Input(font=(\"Helvetica\", 20),size = (15,1))],\n",
    "          [sg.Text('Enter ratio of Potassium in the soil                               :', font=(\"Helvetica\", 20), background_color = 'forestgreen'), sg.Input(font=(\"Helvetica\", 20),size = (15,1))],\n",
    "          [sg.Text('Enter average Temperature value around the field        :', font=(\"Helvetica\", 20), background_color = 'forestgreen'), sg.Input(font=(\"Helvetica\", 20),size = (15,1)), sg.Text('*C', font=(\"Helvetica\", 20), background_color = 'forestgreen')], \n",
    "          [sg.Text('Enter average percentage of Humidity around the field :', font=(\"Helvetica\", 20), background_color = 'forestgreen'), sg.Input(font=(\"Helvetica\", 20),size = (15,1)), sg.Text('%', font=(\"Helvetica\", 20), background_color = 'forestgreen')], \n",
    "          [sg.Text('Enter PH value of the soil                                             :', font=(\"Helvetica\", 20), background_color = 'forestgreen'), sg.Input(font=(\"Helvetica\", 20),size = (15,1))], \n",
    "          [sg.Text('Enter average amount of Rainfall around the field         :', font=(\"Helvetica\", 20), background_color = 'forestgreen' ), sg.Input(font=(\"Helvetica\", 20),size = (15,1)),sg.Text('mm', font=(\"Helvetica\", 20), background_color = 'forestgreen')],\n",
    "          [sg.Text(size=(52,1),font=(\"Helvetica\",20), background_color = 'forestgreen' , text_color = 'yellow', key='-OUTPUT1-' )],\n",
    "          [sg.Text(size=(50,1),font=(\"Helvetica\",20), background_color = 'forestgreen' , text_color = 'yellow', key='-OUTPUT2-' )],\n",
    "          [sg.Push(),sg.Button('Submit', font=(\"Helvetica\", 20)), sg.Button('Quit', font=(\"Helvetica\", 20)), sg.Push()]]\n",
    "window = sg.Window('Crop Recommendation Assistant', layout, background_color = 'forestgreen') \n"
   ]
  },
  {
   "cell_type": "code",
   "execution_count": 79,
   "metadata": {},
   "outputs": [
    {
     "name": "stdout",
     "output_type": "stream",
     "text": [
      "90\n",
      "['90' '21' '50' '28' '92' '6.4' '28']\n",
      "[['90' '21' '50' '28' '92' '6.4' '28']]\n",
      "[15]\n",
      "muskmelon\n",
      "high humid\n",
      "hot\n",
      "less\n",
      "not to less but also not to high\n",
      "less\n",
      "less\n",
      "neutral\n",
      "crop1 = watermelon , crop2 = lentil\n",
      "\n",
      "The best crop you can grow is : muskmelon\n",
      "The alternate crops you can grow are : watermelon and lentil"
     ]
    }
   ],
   "source": [
    "while True: \n",
    "    event, values = window.read()\n",
    "    if event == sg.WINDOW_CLOSED or event == 'Quit':                                                                                            # If the user will press the quit button then the program will end up.\n",
    "        break\n",
    "    print(values[0])\n",
    "    nitrogen_content =         values[0]                                                                                                        # Taking input from the user about nitrogen content in the soil.\n",
    "    phosphorus_content =       values[1]                                                                                                        # Taking input from the user about phosphorus content in the soil.\n",
    "    potassium_content =        values[2]                                                                                                        # Taking input from the user about potassium content in the soil.\n",
    "    temperature_content =      values[3]                                                                                                        # Taking input from the user about the surrounding temperature.\n",
    "    humidity_content =         values[4]                                                                                                        # Taking input from the user about the surrounding humidity. \n",
    "    ph_content =               values[5]                                                                                                        # Taking input from the user about the ph level of the soil.\n",
    "    rainfall =                 values[6]                                                                                                        # Taking input from the user about the rainfall.\n",
    "    predict1 = np.array([nitrogen_content,phosphorus_content, potassium_content, temperature_content, humidity_content, ph_content, rainfall])  # Converting all the data that we collected from the user into a array form to make further predictions.\n",
    "    print(predict1)                                                                                                                             # Printing the data after being converted into a array form.\n",
    "    predict1 = predict1.reshape(1,-1)                                                                              # Reshaping the input data so that it can be applied in the model for getting accurate results.\n",
    "    print(predict1)                                                                                                # Printing the input data value after being reshaped.\n",
    "    predict1 = model.predict(predict1)                                                                             # Applying the user input data into the model. \n",
    "    print(predict1)                                                                                                # Finally printing out the results.\n",
    "    crop_name = str()\n",
    "    if predict1 == 0:                                                                                              # Above we have converted the crop names into numerical form, so that we can apply the machine learning model easily. Now we have to again change the numerical values into names of crop so that we can print it when required. \n",
    "        crop_name = 'apple'\n",
    "    elif predict1 == 1:\n",
    "        crop_name = 'banana'\n",
    "    elif predict1 == 2:\n",
    "        crop_name = 'blackgram'\n",
    "    elif predict1 == 3:\n",
    "        crop_name = 'chickpea'\n",
    "    elif predict1 == 4:\n",
    "        crop_name = 'coconut'\n",
    "    elif predict1 == 5:\n",
    "        crop_name = 'coffee'\n",
    "    elif predict1 == 6:\n",
    "        crop_name = 'cotton'\n",
    "    elif predict1 == 7:\n",
    "        crop_name = 'grapes'\n",
    "    elif predict1 == 8:\n",
    "        crop_name = 'jute'\n",
    "    elif predict1 == 9:\n",
    "        crop_name = 'kidneybeans'\n",
    "    elif predict1 == 10:\n",
    "        crop_name = 'lentil'\n",
    "    elif predict1 == 11:\n",
    "        crop_name = 'maize'\n",
    "    elif predict1 == 12:\n",
    "        crop_name = 'mango'\n",
    "    elif predict1 == 13:\n",
    "        crop_name = 'mothbeans'\n",
    "    elif predict1 == 14:\n",
    "        crop_name = 'mungbeans'\n",
    "    elif predict1 == 15:\n",
    "        crop_name = 'muskmelon'\n",
    "    elif predict1 == 16:\n",
    "        crop_name = 'orange'\n",
    "    elif predict1 == 17:\n",
    "        crop_name = 'papaya'\n",
    "    elif predict1 == 18:\n",
    "        crop_name = 'pigeonpeas'\n",
    "    elif predict1 == 19:\n",
    "        crop_name = 'pomegranate'\n",
    "    elif predict1 == 20:\n",
    "        crop_name = 'rice'\n",
    "    elif predict1 == 21:\n",
    "        crop_name = 'watermelon'\n",
    "\n",
    "    if int(humidity_content) >=1 and int(humidity_content)<= 33 :                                                # Here I have divided the humidity values into three categories i.e low humid, medium humid, high humid.\n",
    "        humidity_level = 'low humid'\n",
    "    elif int(humidity_content) >=34 and int(humidity_content) <= 66:\n",
    "        humidity_level = 'medium humid'\n",
    "    else:\n",
    "        humidity_level = 'high humid'\n",
    "    if int(temperature_content) >= 0 and int(temperature_content)<= 6:                                           # Here I have divided the temperature values into three categories i.e cool, warm, hot.\n",
    "        temperature_level = 'cool'\n",
    "    elif int(temperature_content) >=7 and int(temperature_content) <= 25:\n",
    "        temperature_level = 'warm'\n",
    "    else:\n",
    "        temperature_level= 'hot' \n",
    "\n",
    "    if int(rainfall) >=1 and int(rainfall) <= 100:                                                              # Here I have divided the humidity values into three categories i.e less, moderate, heavy rain.\n",
    "        rainfall_level = 'less'\n",
    "    elif int(rainfall) >= 101 and int(rainfall) <=200:\n",
    "        rainfall_level = 'moderate'\n",
    "    elif int(rainfall) >=201:\n",
    "        rainfall_level = 'heavy rain'\n",
    "\n",
    "    if int(nitrogen_content) >= 1 and int(nitrogen_content) <= 50:                                             # Here I have divided the nitrogen values into three categories.\n",
    "        nitrogen_level = 'less'\n",
    "    elif int(nitrogen_content) >=51 and int(nitrogen_content) <=100:\n",
    "        nitrogen_level = 'not to less but also not to high'\n",
    "    elif int(nitrogen_content) >=101:\n",
    "        nitrogen_level = 'high'\n",
    "\n",
    "    if int(phosphorus_content) >= 1 and int(phosphorus_content) <= 50:                                         # Here I have divided the phosphorus values into three categories.\n",
    "        phosphorus_level = 'less'\n",
    "    elif int(phosphorus_content) >= 51 and int(phosphorus_content) <=100:\n",
    "        phosphorus_level = 'not to less but also not to high'\n",
    "    elif int(phosphorus_content) >=101:\n",
    "        phosphorus_level = 'high'\n",
    "\n",
    "    if int(potassium_content) >= 1 and int(potassium_content) <=50:                                           # Here I have divided the potassium values into three categories.\n",
    "        potassium_level = 'less'\n",
    "    elif int(potassium_content) >= 51 and int(potassium_content) <= 100:\n",
    "        potassium_level = 'not to less but also not to high'\n",
    "    elif int(potassium_content) >=101:\n",
    "        potassium_level = 'high'\n",
    "\n",
    "    if float(ph_content) >=0 and float(ph_content) <=5:                                                        # Here I have divided the ph values into three categories.\n",
    "        phlevel = 'acidic' \n",
    "    elif float(ph_content) >= 6 and float(ph_content) <= 8:\n",
    "        phlevel = 'neutral'\n",
    "    elif float(ph_content) >= 9 and float(ph_content) <= 14:\n",
    "        phlevel = 'alkaline'\n",
    "    \n",
    "    print(crop_name)\n",
    "    print(humidity_level)\n",
    "    print(temperature_level)\n",
    "    print(rainfall_level)\n",
    "    print(nitrogen_level)\n",
    "    print(phosphorus_level)\n",
    "    print(potassium_level)\n",
    "    print(phlevel)\n",
    "    \n",
    "    temp = df[df.label == crop_name]\n",
    "    temp_rainfall = temp[\"rainfall\"].mean()\n",
    "    \n",
    "    temp_rainfall = int(temp_rainfall)\n",
    "    \n",
    "    count = 0\n",
    "    \n",
    "    crop1 = int()\n",
    "    crop2 = int()\n",
    "    \n",
    "    alt_crop_name1 = str()\n",
    "    alt_crop_name2 = str()\n",
    "    \n",
    "    for i in rainfall_arr:\n",
    "        if(temp_rainfall == 236):\n",
    "            crop1 = 174\n",
    "            crop2 = 175\n",
    "            break\n",
    "        if(temp_rainfall == 24):\n",
    "            crop1 = 50\n",
    "            crop2 = 45\n",
    "            break\n",
    "        if(((temp_rainfall - i <= 20 and temp_rainfall - i > 0) or (temp_rainfall - i >= -20) and temp_rainfall - i < 0) and temp_rainfall != i):\n",
    "            if(count == 0):\n",
    "                crop1 = i\n",
    "                count = count+1\n",
    "            elif(count == 1):\n",
    "                crop2 = i\n",
    "                count = count+1\n",
    "            else:\n",
    "                break\n",
    "        \n",
    "    for index in range(len(rainfall_arr)):\n",
    "        if(rainfall_arr[index] == crop1):\n",
    "            alt_crop_name1 = crop_arr[index]\n",
    "        elif(rainfall_arr[index] == crop2):\n",
    "            alt_crop_name2 = crop_arr[index]\n",
    "        \n",
    "            \n",
    "        \n",
    "    crop1 = str(crop1)\n",
    "    crop2 = str(crop2)\n",
    "\n",
    "    print(\"crop1 = \" + alt_crop_name1 + \" \" + \", crop2 = \" + alt_crop_name2)\n",
    "    \n",
    "#     speak(\"Sir according to the data that you provided to me. The ratio of nitrogen in the soil is  \" + nitrogen_level + \". The ratio of phosphorus in the soil is  \" + phosphorus_level + \". The ratio of potassium in the soil is  \" + potassium_level + \". The temperature level around the field is  \" + temperature_level + \". The humidity level around the field is  \" + humidity_level + \". The ph type of the soil is  \" + phlevel + \". The amount of rainfall is  \" + rainfall_level )  # Making our program to speak about the data that it has received about the crop in front of the user.\n",
    "    window['-OUTPUT1-'].update('The best crop that you can grow : ' + crop_name)\n",
    "    window['-OUTPUT2-'].update('The alternative crop you can grow : ' + alt_crop_name1 + ' and ' + alt_crop_name2)\n",
    "    \n",
    "    speak(\"The best crop that you can grow is  \" + crop_name)                                                         # Speaking the name of the predicted crop.\n",
    "    speak(\"And the alternate crops you can grow are : \" + alt_crop_name1 + \" and \" + alt_crop_name2)\n",
    "\n",
    "    print(end = \"\\n\" + \"The best crop you can grow is : \" + crop_name)\n",
    "    print(end = \"\\n\" + \"The alternate crops you can grow are : \" + alt_crop_name1 + \" and \" + alt_crop_name2)\n",
    "\n",
    "    \n",
    "\n",
    "window.close() \n"
   ]
  },
  {
   "cell_type": "code",
   "execution_count": null,
   "metadata": {},
   "outputs": [],
   "source": []
  }
 ],
 "metadata": {
  "kernelspec": {
   "display_name": "Python 3",
   "language": "python",
   "name": "python3"
  },
  "language_info": {
   "codemirror_mode": {
    "name": "ipython",
    "version": 3
   },
   "file_extension": ".py",
   "mimetype": "text/x-python",
   "name": "python",
   "nbconvert_exporter": "python",
   "pygments_lexer": "ipython3",
   "version": "3.8.8"
  }
 },
 "nbformat": 4,
 "nbformat_minor": 4
}
